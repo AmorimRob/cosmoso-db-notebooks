{
  "cells": [
    {
      "cell_type": "code",
      "source": [
        "#r \"nuget: Bogus\"\n",
        "#r \"nuget: System.Linq\"\n",
        "#r \"nuget: System.Linq.Expressions\""
      ],
      "outputs": [],
      "execution_count": null,
      "metadata": {
        "collapsed": true,
        "outputExpanded": false,
        "jupyter": {
          "source_hidden": false,
          "outputs_hidden": false
        },
        "nteract": {
          "transient": {
            "deleting": false
          }
        }
      }
    },
    {
      "cell_type": "code",
      "source": [
        "using System;\n",
        "\n",
        "class Items\n",
        "{\n",
        "    public string id { get; set; }\n",
        "    \n",
        "    public string Nome { get; set; }\n",
        "}"
      ],
      "outputs": [],
      "execution_count": null,
      "metadata": {
        "collapsed": true,
        "outputExpanded": false,
        "jupyter": {
          "source_hidden": false,
          "outputs_hidden": false
        },
        "nteract": {
          "transient": {
            "deleting": false
          }
        }
      }
    },
    {
      "cell_type": "code",
      "source": [
        "using System;\n",
        "using Microsoft.Azure.Cosmos;\n",
        "using System.Collections;\n",
        "\n",
        "// Initialize a new instance of CosmosClient using the built-in account endpoint and key parameters\n",
        "CosmosClient cosmosClient = new CosmosClient(Cosmos.Endpoint, Cosmos.Key);\n",
        "\n",
        "// Create a new database and container with 400 RU/s\n",
        "Microsoft.Azure.Cosmos.Database database = await cosmosClient.CreateDatabaseIfNotExistsAsync(\"Live\");\n",
        "Container container = await database.CreateContainerIfNotExistsAsync(\"High5Devs\", \"/id\", 400);\n",
        "\n",
        "QueryDefinition queryDefinition = new QueryDefinition(\"SELECT * FROM Items i \");\n",
        "\n",
        "FeedIterator<Items> queryResultSetIterator = container.GetItemQueryIterator<Items>(queryDefinition);\n",
        "\n",
        "while (queryResultSetIterator.HasMoreResults)\n",
        "{\n",
        "    FeedResponse<Items> currentResultSet = await queryResultSetIterator.ReadNextAsync();\n",
        "    foreach (Items item in currentResultSet)\n",
        "    {\n",
        "        Display.AsMarkdown(item.Nome);\n",
        "    }\n",
        "}"
      ],
      "outputs": [],
      "execution_count": null,
      "metadata": {
        "collapsed": true,
        "outputExpanded": false,
        "jupyter": {
          "source_hidden": false,
          "outputs_hidden": false
        },
        "nteract": {
          "transient": {
            "deleting": false
          }
        }
      }
    }
  ],
  "metadata": {
    "kernelspec": {
      "name": "csharp",
      "displayName": "CSharp",
      "language": "csharp"
    },
    "nteract": {
      "version": "dataExplorer 1.0"
    }
  },
  "nbformat": 4,
  "nbformat_minor": 0
}